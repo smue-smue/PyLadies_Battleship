{
 "cells": [
  {
   "cell_type": "markdown",
   "metadata": {},
   "source": [
    "# Functions"
   ]
  },
  {
   "cell_type": "markdown",
   "metadata": {},
   "source": [
    "### Grid / Map\n",
    "\n",
    "* The function should take a list of coordinate pairs as an input, which represents the position of the ships. \n",
    "* The grid should be 10 spaces by 10 spaces big.\n",
    "\n"
   ]
  },
  {
   "cell_type": "markdown",
   "metadata": {},
   "source": [
    "### Player select Positions for Ships\n",
    "\n",
    "* Create a function that allows the user to select positions for their ships.\n",
    "* Store this in a format that your draw function from Step 1 (Grid/Map) can accept as an argument. (-> list of coordinate pairs)\n",
    "* Limit the number of ships. \n",
    "* Verify that a position is not already taken or not outside of a map. \n",
    "* After the user selects their ships, draw a map using the function Grid/Map.\n"
   ]
  },
  {
   "cell_type": "markdown",
   "metadata": {},
   "source": [
    "### Comouter randomly places Ships\n",
    "\n",
    "* Create a function that randomly places computer ships.\n",
    "* Limit the number of ships. \n",
    "* Verify that a position is not already taken or not outside of a map.\n",
    "* Do not display to User."
   ]
  },
  {
   "cell_type": "markdown",
   "metadata": {},
   "source": [
    "### Firing Missile and Check if Ship was destroyed\n",
    "\n",
    "* Write a function where after asking for input, you check if the opponent's ship was destroyed.\n",
    "* If yes, remove the ship from the list of coordinates. \n",
    "* Create either:\n",
    "    * two functions (one for the player, second for the computer) or \n",
    "    * try setting default arguments to a single function to play randomly for the computer.\n",
    "* It is hit, but not destroyed inform the Player about the size of their target.\n",
    "* Think about a better strategy for a computer than random and implement it - maybe next to the previous hit?"
   ]
  },
  {
   "cell_type": "markdown",
   "metadata": {},
   "source": [
    "### Main Function\n",
    "\n",
    "* Write a main function where the player and computer (after\n",
    "placing their ships) iterate in guessing the opponent's ship location. \n",
    "* Keep score and let players know their successes or misses. \n",
    "* The game ends when one of the player's lists of ships is empty."
   ]
  },
  {
   "cell_type": "markdown",
   "metadata": {},
   "source": [
    "# Objects"
   ]
  },
  {
   "cell_type": "markdown",
   "metadata": {},
   "source": [
    "### List of ships (?)\n",
    "\n",
    "Needed for: \n",
    "* Placing ships? \n",
    "\n",
    "Maybe easier solution: Max. number of successful hits needed for winning?\n",
    "\n",
    "* 1x Five-Space\n",
    "* 2x Three-Space\n",
    "* 3x Two-Space\n"
   ]
  },
  {
   "cell_type": "markdown",
   "metadata": {},
   "source": [
    "### Coordinates for placing hits"
   ]
  },
  {
   "cell_type": "markdown",
   "metadata": {},
   "source": [
    "### Grid / Maps\n",
    "\n",
    "* How many do we need?\n",
    "\n",
    "1. Printed: Users own ships\n",
    "2. Printed: Computers grid (successful hits)\n",
    "3. Not printed: only for debugging Computers grid with ships"
   ]
  }
 ],
 "metadata": {
  "language_info": {
   "name": "python"
  }
 },
 "nbformat": 4,
 "nbformat_minor": 2
}
