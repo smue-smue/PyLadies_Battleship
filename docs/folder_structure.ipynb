{
 "cells": [
  {
   "cell_type": "markdown",
   "metadata": {},
   "source": [
    "# Project Folder Structure"
   ]
  },
  {
   "cell_type": "markdown",
   "metadata": {},
   "source": [
    "project_name/\\\n",
    "│\\\n",
    "├── assets/ # Game assets\\\n",
    "│ ├── images/ # Image files\\\n",
    "│ ├── sounds/ # Sound files\\\n",
    "│ └── fonts/ # Font files\\\n",
    "│\\\n",
    "├── docs/ # Documentation files\\\n",
    "│\\\n",
    "├── src/ # Source code files (examples)\\\n",
    "│ ├── main.py # Main application entry point\\\n",
    "│ ├── player.py # Player module\\\n",
    "│ └── enemy.py # Enemy module\\\n",
    "│\\\n",
    "├── tests/ # Test scripts\\\n",
    "│\\\n",
    "├── venv/ # Virtual environment\\\n",
    "│\\\n",
    "├── .gitignore # Git ignore file\\\n",
    "├── requirements.txt # Python dependencies\\\n",
    "└── README.md # Project README\\\n",
    "."
   ]
  }
 ],
 "metadata": {
  "kernelspec": {
   "display_name": "Python 3",
   "language": "python",
   "name": "python3"
  },
  "language_info": {
   "name": "python",
   "version": "3.12.0"
  }
 },
 "nbformat": 4,
 "nbformat_minor": 2
}
