{
 "cells": [
  {
   "cell_type": "markdown",
   "metadata": {},
   "source": [
    "# Project Folder Structure"
   ]
  },
  {
   "cell_type": "markdown",
   "metadata": {},
   "source": [
    "project_name/\\\n",
    "│\\\n",
    "├── docs/ #  All documentation related to the project, including setup instructions, user guides, and contribution guidelines.\n",
    "│\\\n",
    "├── src/ # Source code files (examples)\\\n",
    "│ ├── main.py # The main entry point for the application. Run this to start the game.\\\n",
    "│ ├── game_loop.py # Handles the main game loop, including turn-taking and win condition checking.\\\n",
    "│ ├── game_setup.py # Responsible for initializing the game, setting up players, boards, and fleets.\\\n",
    "│ ├── grid.py # Manages the game board grid.\\\n",
    "│ ├── hit_miss.py # Tracks and manages attack hits and misses.\\\n",
    "│ ├── player.py # Defines player classes, including both human and computer players.\\\n",
    "│ ├── fleet.py # Manages the collection of ships for each player.\\\n",
    "│ ├── ship.py # Defines the ship class.\\\n",
    "│\\\n",
    "├── tests/ # Contains test scripts to ensure code reliability and correctness.\\\n",
    "│\\\n",
    "├── venv/ # A virtual environment for managing project dependencies. \\\n",
    "│\\\n",
    "├── .gitignore # Specifies intentionally untracked files to ignore\\\n",
    "├── LICENSE # The license file specifies the terms under which the project can be used.\\\n",
    "├── pytest.ini #  Configuration file for pytest, used for running test scripts.\\\n",
    "├── requirements.txt # Lists all Python dependencies required to run the project. Install via pip install -r requirements.txt.\\\n",
    "├── README.md # Provides an overview of the project, setup instructions, and other essential information.\\\n",
    "\n",
    "."
   ]
  },
  {
   "cell_type": "markdown",
   "metadata": {},
   "source": []
  }
 ],
 "metadata": {
  "kernelspec": {
   "display_name": "Python 3",
   "language": "python",
   "name": "python3"
  },
  "language_info": {
   "name": "python",
   "version": "3.12.0"
  }
 },
 "nbformat": 4,
 "nbformat_minor": 2
}
